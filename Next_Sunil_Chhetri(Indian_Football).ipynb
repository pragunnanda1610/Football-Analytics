{
  "nbformat": 4,
  "nbformat_minor": 0,
  "metadata": {
    "colab": {
      "name": "Day 4- Case Study (Indian Football)",
      "provenance": [],
      "collapsed_sections": []
    },
    "kernelspec": {
      "name": "python3",
      "display_name": "Python 3"
    },
    "language_info": {
      "name": "python"
    }
  },
  "cells": [
    {
      "cell_type": "markdown",
      "metadata": {
        "id": "8GjtufvU14dH"
      },
      "source": [
        "# Who is the next Sunil Chhetri?\n",
        "\n",
        "We will use the data from the past two ISL seasons and compare the attributes of Chhetri with other strikers in Indian Football to see who is capable of replacing him."
      ]
    },
    {
      "cell_type": "markdown",
      "metadata": {
        "id": "QBjkkDJSMo5S"
      },
      "source": [
        "## Read and explore the data"
      ]
    },
    {
      "cell_type": "code",
      "metadata": {
        "id": "dxrPWD7KdG4o"
      },
      "source": [
        "# Import required libraries:\n",
        "import io\n",
        "import numpy as np\n",
        "import pandas as pd\n",
        "from copy import deepcopy\n",
        "from google.colab import files"
      ],
      "execution_count": null,
      "outputs": []
    },
    {
      "cell_type": "code",
      "metadata": {
        "id": "_dgCE2HAMCtz"
      },
      "source": [
        "# Import plotting libraries\n",
        "import matplotlib.pyplot as plt\n",
        "import seaborn as sns\n",
        "import plotly.express as px"
      ],
      "execution_count": null,
      "outputs": []
    },
    {
      "cell_type": "code",
      "metadata": {
        "id": "A6Z4CQd2LM4b"
      },
      "source": [
        "uploaded = files.upload()"
      ],
      "execution_count": null,
      "outputs": []
    },
    {
      "cell_type": "code",
      "metadata": {
        "id": "Yc3PXx4iL6NY"
      },
      "source": [
        "isl_df = pd.read_csv(io.BytesIO(uploaded['isl_player_final.csv']))\n",
        "isl_df"
      ],
      "execution_count": null,
      "outputs": []
    },
    {
      "cell_type": "code",
      "metadata": {
        "id": "1s2O2rSn2NFj"
      },
      "source": [
        "isl_df.info()"
      ],
      "execution_count": null,
      "outputs": []
    },
    {
      "cell_type": "code",
      "metadata": {
        "id": "Fcnx7pGz2gq3"
      },
      "source": [
        "isl_df.describe().round(1)"
      ],
      "execution_count": null,
      "outputs": []
    },
    {
      "cell_type": "code",
      "metadata": {
        "id": "1pRyxArxwC8Y"
      },
      "source": [
        "isl_df[(isl_df[\"minutes_played\"] > 1500) & (isl_df[\"country_id\"] == 1)].shape"
      ],
      "execution_count": null,
      "outputs": []
    },
    {
      "cell_type": "code",
      "metadata": {
        "id": "myBmZC2YUIno"
      },
      "source": [
        "isl_df[(isl_df[\"country_id\"] == 1) & (isl_df[\"position_id\"] == 2)]"
      ],
      "execution_count": null,
      "outputs": []
    },
    {
      "cell_type": "code",
      "metadata": {
        "id": "hvdaGF0Q0LFK"
      },
      "source": [
        "indian_forwards = deepcopy(isl_df[(isl_df[\"country_id\"] == 1) & (isl_df[\"position_id\"] == 2)])"
      ],
      "execution_count": null,
      "outputs": []
    },
    {
      "cell_type": "code",
      "metadata": {
        "id": "IErBTS48N7A4"
      },
      "source": [
        "indian_forwards.reset_index(drop=True, inplace=True)"
      ],
      "execution_count": null,
      "outputs": []
    },
    {
      "cell_type": "code",
      "metadata": {
        "id": "FFGQL1fL53YN"
      },
      "source": [
        "indian_forwards[indian_forwards[\"name\"].str.contains(\"Singh\")]"
      ],
      "execution_count": null,
      "outputs": []
    },
    {
      "cell_type": "markdown",
      "metadata": {
        "id": "MMLQx8lJMzjP"
      },
      "source": [
        "## Level the playing field\n",
        "\n",
        "Why do we need this?"
      ]
    },
    {
      "cell_type": "code",
      "metadata": {
        "id": "2OGH5nE5OPuI"
      },
      "source": [
        "fwd_mins_df = indian_forwards.groupby([\"id\", \"name\"])[\"minutes_played\"].sum().reset_index()"
      ],
      "execution_count": null,
      "outputs": []
    },
    {
      "cell_type": "code",
      "metadata": {
        "id": "Y09GFAV3OCCv"
      },
      "source": [
        "px.bar(x=\"name\", y=\"minutes_played\", text=\"minutes_played\", data_frame=fwd_mins_df)"
      ],
      "execution_count": null,
      "outputs": []
    },
    {
      "cell_type": "code",
      "metadata": {
        "id": "1I_lPNXS8GIt"
      },
      "source": [
        "indian_forwards[\"goalsPer90\"] = indian_forwards[\"events.goals\"].divide(indian_forwards[\"minutes_played\"]).multiply(90)"
      ],
      "execution_count": null,
      "outputs": []
    },
    {
      "cell_type": "code",
      "metadata": {
        "id": "OHwWCVYnNnT8"
      },
      "source": [
        "indian_forwards = indian_forwards[indian_forwards[\"minutes_played\"] > 0]"
      ],
      "execution_count": null,
      "outputs": []
    },
    {
      "cell_type": "code",
      "metadata": {
        "id": "ktGPWwsl8YJH"
      },
      "source": [
        "indian_forwards[\"assistsPer90\"] = indian_forwards[\"events.assists\"].divide(indian_forwards[\"minutes_played\"]).multiply(90)\n",
        "indian_forwards[\"shots_on_targetPer90\"] = indian_forwards[\"events.shots_on_target\"].divide(indian_forwards[\"minutes_played\"]).multiply(90)"
      ],
      "execution_count": null,
      "outputs": []
    },
    {
      "cell_type": "code",
      "metadata": {
        "id": "i2JxUTCGLAhM"
      },
      "source": [
        "per90Cols = [\"events.goals\", \"events.assists\", \"events.shots\", \"events.shots_on_target\", \"events.chances_created\",\n",
        "             \"events.fouls_suffered\", \"touches.total\", 'touches.aerial_duel.won']\n",
        "for col in per90Cols:\n",
        "    indian_forwards[col + \"Per90\"] = indian_forwards[col].divide(indian_forwards[\"minutes_played\"]).multiply(90)"
      ],
      "execution_count": null,
      "outputs": []
    },
    {
      "cell_type": "code",
      "metadata": {
        "id": "n29DL2A8YjfN"
      },
      "source": [
        "cols_for_radar = []\n",
        "for i in per90Cols:\n",
        "    cols_for_radar.append(i + \"Per90\")\n",
        "print(cols_for_radar)"
      ],
      "execution_count": null,
      "outputs": []
    },
    {
      "cell_type": "code",
      "metadata": {
        "id": "coz_idFEM1-K"
      },
      "source": [
        "# Use list comprehension\n",
        "[i + \"Per90\" for i in per90Cols]"
      ],
      "execution_count": null,
      "outputs": []
    },
    {
      "cell_type": "code",
      "metadata": {
        "id": "jmOQA4nJ5dke"
      },
      "source": [
        "cols_for_radar = [i + \"Per90\" for i in per90Cols]\n",
        "print(cols_for_radar)"
      ],
      "execution_count": null,
      "outputs": []
    },
    {
      "cell_type": "code",
      "metadata": {
        "id": "H7fNR3Pj6R_0"
      },
      "source": [
        "indian_forwards.loc[(indian_forwards[\"id\"] == 19150), cols_for_radar].sum()"
      ],
      "execution_count": null,
      "outputs": []
    },
    {
      "cell_type": "markdown",
      "metadata": {
        "id": "y79HIfeiOvHK"
      },
      "source": [
        "## Chhetri's Performance\n",
        "\n",
        "Let's use some key metrics to assess Chhetri's performance"
      ]
    },
    {
      "cell_type": "markdown",
      "metadata": {
        "id": "Buk6iAdUafKh"
      },
      "source": [
        "### What is a Radar Plot?\n",
        "\n",
        "r --> All the values in the Radar Plot\n",
        "\n",
        "theta --> All the labels in the Radar Plot"
      ]
    },
    {
      "cell_type": "code",
      "metadata": {
        "id": "mO4_W5HUaTb4"
      },
      "source": [
        "df = pd.DataFrame(dict(\n",
        "    r=[1, 5, 2, 2, 3],\n",
        "    theta=['processing cost','mechanical properties','chemical stability',\n",
        "           'thermal stability', 'device integration']))\n",
        "fig = px.line_polar(df, r='r', theta='theta', line_close=True)\n",
        "fig.show()"
      ],
      "execution_count": null,
      "outputs": []
    },
    {
      "cell_type": "markdown",
      "metadata": {
        "id": "0tVf3inVapfU"
      },
      "source": [
        "### Radar Plot for Chhetri's performance"
      ]
    },
    {
      "cell_type": "code",
      "metadata": {
        "id": "lCVRo-j6cScB"
      },
      "source": [
        "indian_forwards.loc[(indian_forwards[\"id\"] == 19150), cols_for_radar].sum()"
      ],
      "execution_count": null,
      "outputs": []
    },
    {
      "cell_type": "code",
      "metadata": {
        "id": "EQGPhaWs4Twv"
      },
      "source": [
        "fig = px.line_polar(indian_forwards, r=indian_forwards.loc[(indian_forwards[\"id\"] == 19150), cols_for_radar].sum(),\n",
        "                    theta=cols_for_radar, line_close=True)\n",
        "fig.update_traces(fill='toself')\n",
        "fig.show()"
      ],
      "execution_count": null,
      "outputs": []
    },
    {
      "cell_type": "markdown",
      "metadata": {
        "id": "ZEE-6SBraxPD"
      },
      "source": [
        "### Normalization of Values"
      ]
    },
    {
      "cell_type": "code",
      "metadata": {
        "id": "CprH7mmtNck8"
      },
      "source": [
        "from sklearn.preprocessing import MinMaxScaler\n",
        "scaler = MinMaxScaler()\n",
        "indian_forwards[cols_for_radar] = scaler.fit_transform(indian_forwards[cols_for_radar])"
      ],
      "execution_count": null,
      "outputs": []
    },
    {
      "cell_type": "code",
      "metadata": {
        "id": "pu-6MXHNdNN2"
      },
      "source": [
        "indian_forwards[cols_for_radar].max()"
      ],
      "execution_count": null,
      "outputs": []
    },
    {
      "cell_type": "markdown",
      "metadata": {
        "id": "ABECK_xqa2ei"
      },
      "source": [
        "### Normalized Radar Plot for Chhetri's performance"
      ]
    },
    {
      "cell_type": "code",
      "metadata": {
        "id": "NGiLiRXtNeBO"
      },
      "source": [
        "fig = px.line_polar(indian_forwards, r=indian_forwards.loc[(indian_forwards[\"id\"] == 19150), cols_for_radar].sum(),\n",
        "                    theta=cols_for_radar, line_close=True)\n",
        "fig.update_traces(fill='toself')\n",
        "fig.show()"
      ],
      "execution_count": null,
      "outputs": []
    },
    {
      "cell_type": "markdown",
      "metadata": {
        "id": "D_wgsy2iPgYk"
      },
      "source": [
        "## The Others\n",
        "\n",
        "Here we try to have a look at other players and compare them with Chhetri"
      ]
    },
    {
      "cell_type": "code",
      "metadata": {
        "id": "g84YgsaT60n4"
      },
      "source": [
        "indian_forwards[indian_forwards[\"name\"].str.contains(\"Manvir\")]"
      ],
      "execution_count": null,
      "outputs": []
    },
    {
      "cell_type": "code",
      "metadata": {
        "id": "570Jk5LweXmo"
      },
      "source": [
        "df"
      ],
      "execution_count": null,
      "outputs": []
    },
    {
      "cell_type": "code",
      "metadata": {
        "id": "kmaWD9ObeS0E"
      },
      "source": [
        "for i, row in indian_forwards.iterrows():\n",
        "    print(\"Index location -->\", i, \"\\n\")\n",
        "    print(row.values, \"\\n\")"
      ],
      "execution_count": null,
      "outputs": []
    },
    {
      "cell_type": "code",
      "metadata": {
        "id": "F6ZCoLzjnFnN"
      },
      "source": [
        "fig = px.line_polar(indian_forwards, r=indian_forwards.loc[(indian_forwards[\"id\"] == 19150), cols_for_radar].sum(),\n",
        "                    theta=cols_for_radar, line_close=True)\n",
        "fig.update_traces(fill='toself')\n",
        "fig.show()"
      ],
      "execution_count": null,
      "outputs": []
    },
    {
      "cell_type": "code",
      "metadata": {
        "id": "w7Jlkctj61rm"
      },
      "source": [
        "for i, row in indian_forwards.iterrows():\n",
        "    print(row[\"name\"])\n",
        "    fig = px.line_polar(indian_forwards, r=indian_forwards.loc[(indian_forwards[\"id\"] == row[\"id\"]), cols_for_radar].sum(),\n",
        "                        theta=cols_for_radar, line_close=True,\n",
        "                        title=row[\"name\"])\n",
        "    fig.update_traces(fill='toself')\n",
        "    fig.show()"
      ],
      "execution_count": null,
      "outputs": []
    },
    {
      "cell_type": "markdown",
      "metadata": {
        "id": "gyp3YxpHQSGo"
      },
      "source": [
        "## The Replacement\n",
        "\n",
        "We will use something called as \"Multiple Trace Radar Chart\" to perform comparative analysis."
      ]
    },
    {
      "cell_type": "code",
      "metadata": {
        "id": "F85FLAbK-LHl"
      },
      "source": [
        "ind_fwds_id_names = indian_forwards.drop_duplicates(subset=[\"id\"])[[\"id\", \"name\"]]"
      ],
      "execution_count": null,
      "outputs": []
    },
    {
      "cell_type": "code",
      "metadata": {
        "id": "EWQoDUNzKIuy"
      },
      "source": [
        "ind_fwds_id_names.shape"
      ],
      "execution_count": null,
      "outputs": []
    },
    {
      "cell_type": "code",
      "metadata": {
        "id": "c8zuahfNqoWl"
      },
      "source": [
        "ind_fwds_id_names.head()"
      ],
      "execution_count": null,
      "outputs": []
    },
    {
      "cell_type": "code",
      "metadata": {
        "id": "QyQEuGoJq5BY"
      },
      "source": [
        "indian_forwards[cols_for_radar].max().max()"
      ],
      "execution_count": null,
      "outputs": []
    },
    {
      "cell_type": "code",
      "metadata": {
        "id": "zWTLexCvpHQf"
      },
      "source": [
        "isl_max = indian_forwards[cols_for_radar].max().max()"
      ],
      "execution_count": null,
      "outputs": []
    },
    {
      "cell_type": "code",
      "metadata": {
        "id": "H_cttMN_phTZ"
      },
      "source": [
        "import plotly.graph_objects as go"
      ],
      "execution_count": null,
      "outputs": []
    },
    {
      "cell_type": "code",
      "metadata": {
        "id": "I3O-ucGdH57w"
      },
      "source": [
        "for i, row in ind_fwds_id_names.iterrows():\n",
        "    if row[\"id\"] == 19150:\n",
        "        continue\n",
        "    print(row[\"name\"])\n",
        "    # Initiate the plotly go figure\n",
        "    fig = go.Figure()\n",
        "    # Add Radar plots for different players:\n",
        "    fig.add_trace(go.Scatterpolar(\n",
        "        r=indian_forwards.loc[(indian_forwards[\"id\"] == 19150), cols_for_radar].sum(),\n",
        "        theta=cols_for_radar,\n",
        "        fill='toself',\n",
        "        name='Sunil Chhetri'))\n",
        "    fig.add_trace(go.Scatterpolar(\n",
        "        r=indian_forwards.loc[(indian_forwards[\"id\"] == row[\"id\"]), cols_for_radar].sum(),\n",
        "        theta=cols_for_radar,\n",
        "        fill='toself',\n",
        "        name=row[\"name\"]))\n",
        "    # Additional properties for the plot:\n",
        "    fig.update_layout(\n",
        "        title=\"Sunil Chhetri vs \" + row[\"name\"],\n",
        "    polar=dict(\n",
        "        radialaxis=dict(\n",
        "        visible=True,\n",
        "        range=[0, isl_max]\n",
        "        )),\n",
        "    showlegend=True\n",
        "    )\n",
        "    fig.show()"
      ],
      "execution_count": null,
      "outputs": []
    },
    {
      "cell_type": "code",
      "metadata": {
        "id": "ij9HAFSRGiGJ"
      },
      "source": [
        ""
      ],
      "execution_count": null,
      "outputs": []
    }
  ]
}