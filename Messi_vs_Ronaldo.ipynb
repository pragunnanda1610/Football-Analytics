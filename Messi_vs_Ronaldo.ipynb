{
  "nbformat": 4,
  "nbformat_minor": 0,
  "metadata": {
    "colab": {
      "name": "Final Mega Webinar - Messi vs Ronaldo",
      "provenance": [],
      "collapsed_sections": [
        "EqQRI7c6fNo_",
        "UnZ7IlBIfZYd",
        "5O_d1MnsK1Sg",
        "INfOvi6ELS7y",
        "BLwgTYD9K_i3",
        "zdMVvsSfMJvh",
        "TZwEH9F7L4m4",
        "F_MaMIGtMUfd",
        "jM_xLN12LD2Z",
        "wOX-pcp1Mfpr",
        "iH4XRxcsMlKd",
        "6uqbrC7tMs2C",
        "H9esDzllNQFb",
        "Ng5RxB6ANaap",
        "QiaofLlYgYkZ",
        "niRBAnpIgfbq",
        "7NyVmRbAgjYT",
        "weSqMippgqzU",
        "YE40N2ZUNivO",
        "PJSVh_L_gy6A",
        "8prhlUP3g1Y8",
        "u68TinXtgVxN",
        "HZ4eqz0mo6wW",
        "W9RKXNnr1iGT",
        "YFWY595ir4Lg",
        "hlw7uOnOSfCc",
        "n_LjWXUNUype",
        "hxLIFDFhU5zE",
        "JN7sLm2kVCqx",
        "1j_jCSu6NxmT",
        "wy4yYQq6114U",
        "deyEPp0r18AT",
        "T_GeVFz31_OT",
        "w21Hy21O2G3h",
        "tQNyOpVX2Qhu",
        "7ouEFcpRPwNS"
      ]
    },
    "kernelspec": {
      "name": "python3",
      "display_name": "Python 3"
    },
    "language_info": {
      "name": "python"
    }
  },
  "cells": [
    {
      "cell_type": "markdown",
      "metadata": {
        "id": "EqQRI7c6fNo_"
      },
      "source": [
        "# Messi vs Ronaldo - An Analytical Debate"
      ]
    },
    {
      "cell_type": "markdown",
      "metadata": {
        "id": "UnZ7IlBIfZYd"
      },
      "source": [
        "## Flow of the Webinar:\n",
        "1. Get data from [Understat](https://understat.com/) for Messi and Ronaldo\n",
        "3. Data Cleaning and Exploration of the data for Messi and Ronaldo on different aspects\n",
        "2. Comparative Analysis\n",
        "3. Shot Analysis\n",
        "3. The Final comparison"
      ]
    },
    {
      "cell_type": "code",
      "metadata": {
        "id": "DQDRPOiOC5pJ"
      },
      "source": [
        "# Import required libraries:\n",
        "import json\n",
        "import pandas as pd\n",
        "from bs4 import BeautifulSoup\n",
        "from urllib.request import urlopen\n",
        "from sklearn.preprocessing import MinMaxScaler\n",
        "\n",
        "# Import plotting libraries:\n",
        "import seaborn as sns\n",
        "import plotly.express as px\n",
        "import matplotlib.pyplot as plt\n",
        "import plotly.graph_objects as go\n",
        "from matplotlib.patches import Arc\n",
        "from plotly.subplots import make_subplots"
      ],
      "execution_count": null,
      "outputs": []
    },
    {
      "cell_type": "markdown",
      "metadata": {
        "id": "5O_d1MnsK1Sg"
      },
      "source": [
        "# Get that Data!"
      ]
    },
    {
      "cell_type": "markdown",
      "metadata": {
        "id": "INfOvi6ELS7y"
      },
      "source": [
        "## Cristiano Ronaldo"
      ]
    },
    {
      "cell_type": "markdown",
      "metadata": {
        "id": "BLwgTYD9K_i3"
      },
      "source": [
        "### Season-wise data"
      ]
    },
    {
      "cell_type": "code",
      "metadata": {
        "id": "m5tSJPhkDBku"
      },
      "source": [
        "# Scrape Cristiano player stats:\n",
        "cris_scrape_url = \"https://understat.com/player/2371\"\n",
        "page_connect = urlopen(cris_scrape_url)\n",
        "page_html = BeautifulSoup(page_connect, \"html.parser\")\n",
        "\n",
        "json_raw_string = page_html.findAll(name=\"script\")[1].text\n",
        "start_ind = json_raw_string.index(\"\\\\\")\n",
        "stop_ind = json_raw_string.index(\"')\")\n",
        "\n",
        "json_data = json_raw_string[start_ind:stop_ind]\n",
        "json_data = json_data.encode(\"utf8\").decode(\"unicode_escape\")\n",
        "\n",
        "cris_season_wise_meta_df = pd.json_normalize(json.loads(json_data)[\"season\"])\n",
        "cris_season_wise_meta_df.insert(0, \"Player\", \"Cristiano\")"
      ],
      "execution_count": null,
      "outputs": []
    },
    {
      "cell_type": "code",
      "metadata": {
        "id": "laj-UbBcsdFZ"
      },
      "source": [
        "cris_season_wise_meta_df"
      ],
      "execution_count": null,
      "outputs": []
    },
    {
      "cell_type": "markdown",
      "metadata": {
        "id": "zdMVvsSfMJvh"
      },
      "source": [
        "### Shots Data"
      ]
    },
    {
      "cell_type": "code",
      "metadata": {
        "id": "N-yL-WXuLGWS"
      },
      "source": [
        "# Scrape Cristiano shot data:\n",
        "json_raw_string = page_html.findAll(name=\"script\")[3].text\n",
        "start_ind = json_raw_string.index(\"\\\\\")\n",
        "stop_ind = json_raw_string.index(\"')\")\n",
        "\n",
        "json_data = json_raw_string[start_ind:stop_ind]\n",
        "json_data = json_data.encode(\"utf8\").decode(\"unicode_escape\")\n",
        "\n",
        "cris_shots_df = pd.json_normalize(json.loads(json_data))\n",
        "cris_shots_df.insert(0, \"Player\", \"Cristiano\")"
      ],
      "execution_count": null,
      "outputs": []
    },
    {
      "cell_type": "code",
      "metadata": {
        "id": "jj46puIdlJRj"
      },
      "source": [
        "cris_shots_df"
      ],
      "execution_count": null,
      "outputs": []
    },
    {
      "cell_type": "markdown",
      "metadata": {
        "id": "TZwEH9F7L4m4"
      },
      "source": [
        "## Messi"
      ]
    },
    {
      "cell_type": "markdown",
      "metadata": {
        "id": "F_MaMIGtMUfd"
      },
      "source": [
        "### Season-wise data"
      ]
    },
    {
      "cell_type": "code",
      "metadata": {
        "id": "jAP7siQLzF83"
      },
      "source": [
        "# Scrape Messi player stats:\n",
        "messi_scrape_url = \"https://understat.com/player/2097\"\n",
        "page_connect = urlopen(messi_scrape_url)\n",
        "page_html = BeautifulSoup(page_connect, \"html.parser\")\n",
        "\n",
        "json_raw_string = page_html.findAll(name=\"script\")[1].text\n",
        "start_ind = json_raw_string.index(\"\\\\\")\n",
        "stop_ind = json_raw_string.index(\"')\")\n",
        "\n",
        "json_data = json_raw_string[start_ind:stop_ind]\n",
        "json_data = json_data.encode(\"utf8\").decode(\"unicode_escape\")\n",
        "\n",
        "messi_season_wise_meta_df = pd.json_normalize(json.loads(json_data)[\"season\"])\n",
        "messi_season_wise_meta_df.insert(0, \"Player\", \"Messi\")"
      ],
      "execution_count": null,
      "outputs": []
    },
    {
      "cell_type": "code",
      "metadata": {
        "id": "jVEgs2dwuRtT"
      },
      "source": [
        "messi_season_wise_meta_df"
      ],
      "execution_count": null,
      "outputs": []
    },
    {
      "cell_type": "markdown",
      "metadata": {
        "id": "jM_xLN12LD2Z"
      },
      "source": [
        "### Shots Data"
      ]
    },
    {
      "cell_type": "code",
      "metadata": {
        "id": "XH0onYm5LeH5"
      },
      "source": [
        "# Scrape Messi shot data:\n",
        "json_raw_string = page_html.findAll(name=\"script\")[3].text\n",
        "start_ind = json_raw_string.index(\"\\\\\")\n",
        "stop_ind = json_raw_string.index(\"')\")\n",
        "\n",
        "json_data = json_raw_string[start_ind:stop_ind]\n",
        "json_data = json_data.encode(\"utf8\").decode(\"unicode_escape\")\n",
        "\n",
        "messi_shots_df = pd.json_normalize(json.loads(json_data))\n",
        "messi_shots_df.insert(0, \"Player\", \"Messi\")"
      ],
      "execution_count": null,
      "outputs": []
    },
    {
      "cell_type": "code",
      "metadata": {
        "id": "JBdouCDyRp8g"
      },
      "source": [
        "messi_shots_df"
      ],
      "execution_count": null,
      "outputs": []
    },
    {
      "cell_type": "markdown",
      "metadata": {
        "id": "wOX-pcp1Mfpr"
      },
      "source": [
        "## Build Final Season-level and shots data"
      ]
    },
    {
      "cell_type": "markdown",
      "metadata": {
        "id": "iH4XRxcsMlKd"
      },
      "source": [
        "### Joint Season-wise Data"
      ]
    },
    {
      "cell_type": "code",
      "metadata": {
        "id": "VesLmfFZfZdk"
      },
      "source": [
        "season_wise_meta_df = cris_season_wise_meta_df.append(messi_season_wise_meta_df)\n",
        "season_wise_meta_df"
      ],
      "execution_count": null,
      "outputs": []
    },
    {
      "cell_type": "markdown",
      "metadata": {
        "id": "6uqbrC7tMs2C"
      },
      "source": [
        "### Joint Shots Data"
      ]
    },
    {
      "cell_type": "code",
      "metadata": {
        "id": "mPkt51l9MyI_"
      },
      "source": [
        "shots_df = cris_shots_df.append(messi_shots_df)\n",
        "shots_df"
      ],
      "execution_count": null,
      "outputs": []
    },
    {
      "cell_type": "code",
      "metadata": {
        "id": "vqfyJ0qvGp-U"
      },
      "source": [
        "shots_df.describe()"
      ],
      "execution_count": null,
      "outputs": []
    },
    {
      "cell_type": "markdown",
      "metadata": {
        "id": "H9esDzllNQFb"
      },
      "source": [
        "# Data Cleaning and EDA"
      ]
    },
    {
      "cell_type": "markdown",
      "metadata": {
        "id": "Ng5RxB6ANaap"
      },
      "source": [
        "## On Season-wise data"
      ]
    },
    {
      "cell_type": "markdown",
      "metadata": {
        "id": "QiaofLlYgYkZ"
      },
      "source": [
        "### Numerical EDA"
      ]
    },
    {
      "cell_type": "code",
      "metadata": {
        "id": "ooqqC-imvhXr"
      },
      "source": [
        "season_wise_meta_df.info()"
      ],
      "execution_count": null,
      "outputs": []
    },
    {
      "cell_type": "code",
      "metadata": {
        "id": "DpN4MEubtZsF"
      },
      "source": [
        "season_wise_meta_df = season_wise_meta_df.apply(pd.to_numeric, errors=\"ignore\")"
      ],
      "execution_count": null,
      "outputs": []
    },
    {
      "cell_type": "code",
      "metadata": {
        "id": "KLMjOPRP1NFX"
      },
      "source": [
        "season_wise_meta_df = season_wise_meta_df.round(2)"
      ],
      "execution_count": null,
      "outputs": []
    },
    {
      "cell_type": "code",
      "metadata": {
        "id": "UR0yEmdi4Tbv"
      },
      "source": [
        "season_wise_meta_df.describe().round(1)"
      ],
      "execution_count": null,
      "outputs": []
    },
    {
      "cell_type": "code",
      "metadata": {
        "id": "Z7ySoiV02t90"
      },
      "source": [
        "season_wise_meta_df.groupby([\"Player\"]).describe().round(1)"
      ],
      "execution_count": null,
      "outputs": []
    },
    {
      "cell_type": "code",
      "metadata": {
        "id": "Sl17GOht4BOI"
      },
      "source": [
        "season_wise_meta_df.groupby([\"Player\", \"team\"])[\"goals\"].sum()"
      ],
      "execution_count": null,
      "outputs": []
    },
    {
      "cell_type": "markdown",
      "metadata": {
        "id": "niRBAnpIgfbq"
      },
      "source": [
        "### Visual EDA"
      ]
    },
    {
      "cell_type": "code",
      "metadata": {
        "id": "cnJ6izyhST6v"
      },
      "source": [
        "num_cols = season_wise_meta_df.select_dtypes(exclude=[object]).columns"
      ],
      "execution_count": null,
      "outputs": []
    },
    {
      "cell_type": "code",
      "metadata": {
        "id": "xTZLPsedIvJ6"
      },
      "source": [
        "num_cols"
      ],
      "execution_count": null,
      "outputs": []
    },
    {
      "cell_type": "code",
      "metadata": {
        "id": "VMYCZGuIXuzj"
      },
      "source": [
        "num_cols.__len__()"
      ],
      "execution_count": null,
      "outputs": []
    },
    {
      "cell_type": "code",
      "metadata": {
        "id": "9_XlOcmdpG3J"
      },
      "source": [
        "season_wise_meta_df.groupby([\"Player\"])[num_cols].sum()"
      ],
      "execution_count": null,
      "outputs": []
    },
    {
      "cell_type": "code",
      "metadata": {
        "id": "kZUQ4SrENibA"
      },
      "source": [
        "total_df = season_wise_meta_df.groupby([\"Player\"])[num_cols].sum().round(1).reset_index()"
      ],
      "execution_count": null,
      "outputs": []
    },
    {
      "cell_type": "markdown",
      "metadata": {
        "id": "7NyVmRbAgjYT"
      },
      "source": [
        "#### EDA on Totals (Consolidated data for all seasons per player)"
      ]
    },
    {
      "cell_type": "code",
      "metadata": {
        "id": "dd4dwj2wXkmd"
      },
      "source": [
        "i = j = 1\n",
        "# Create an empty subplot:\n",
        "fig = make_subplots(rows=4, cols=4,\n",
        "                    shared_xaxes=False,\n",
        "                    vertical_spacing=0.1,\n",
        "                    subplot_titles=num_cols)\n",
        "# Add bar plot for goals conceded in all subplots:\n",
        "for col in num_cols:\n",
        "    fig.add_trace(go.Bar(x=total_df[\"Player\"],\n",
        "                        y=total_df[col],\n",
        "                        text=total_df[col],\n",
        "                        textposition=\"inside\",\n",
        "                        name=col),\n",
        "                row=i, col=j)\n",
        "    j += 1\n",
        "    if j > 4:\n",
        "        j = 1\n",
        "        i += 1\n",
        "    if i > 4:\n",
        "        i = 1\n",
        "fig.update_layout(height=800)\n",
        "fig.show()"
      ],
      "execution_count": null,
      "outputs": []
    },
    {
      "cell_type": "markdown",
      "metadata": {
        "id": "Iwwy_yFRaN0m"
      },
      "source": [
        "NOTE: On xGChain and xGBuildup \\\\\n",
        "xGChain --> Calculating xG for possessions that lead to a shot where the player was involved at least once in that possession, **INCLUDING** the final pass or the shot. \\\\\n",
        "xGBuildup --> Calculating xG for possessions that lead to a shot where the player was involved at least once in that possession, **EXCLUDING** the final pass or the shot. \\\\"
      ]
    },
    {
      "cell_type": "markdown",
      "metadata": {
        "id": "weSqMippgqzU"
      },
      "source": [
        "#### EDA on Season-wise stats (Consolidated data per season per player)"
      ]
    },
    {
      "cell_type": "code",
      "metadata": {
        "id": "w8vXKosbb1i-"
      },
      "source": [
        "i = j = 1\n",
        "# Create an empty subplot:\n",
        "fig = make_subplots(rows=4, cols=4,\n",
        "                    shared_xaxes=False,\n",
        "                    vertical_spacing=0.1,\n",
        "                    subplot_titles=num_cols)\n",
        "# Add bar plot for goals conceded in all subplots:\n",
        "for col in num_cols:\n",
        "    fig.add_trace(go.Bar(x=season_wise_meta_df[\"season\"],\n",
        "                         y=season_wise_meta_df[col],\n",
        "                         text=season_wise_meta_df[col],\n",
        "                         textposition=\"inside\",\n",
        "                         name=col),\n",
        "                row=i, col=j)\n",
        "    j += 1\n",
        "    if j > 4:\n",
        "        j = 1\n",
        "        i += 1\n",
        "    if i > 4:\n",
        "        i = 1\n",
        "fig.update_layout(height=800, barmode=\"stack\")\n",
        "fig.show()"
      ],
      "execution_count": null,
      "outputs": []
    },
    {
      "cell_type": "markdown",
      "metadata": {
        "id": "YE40N2ZUNivO"
      },
      "source": [
        "## On Shots data"
      ]
    },
    {
      "cell_type": "markdown",
      "metadata": {
        "id": "PJSVh_L_gy6A"
      },
      "source": [
        "### Numerical EDA"
      ]
    },
    {
      "cell_type": "code",
      "metadata": {
        "id": "9t4Xln5oNo2q"
      },
      "source": [
        "shots_df.info()"
      ],
      "execution_count": null,
      "outputs": []
    },
    {
      "cell_type": "code",
      "metadata": {
        "id": "oAAfNgjVNo2s"
      },
      "source": [
        "shots_df = shots_df.apply(pd.to_numeric, errors=\"ignore\")"
      ],
      "execution_count": null,
      "outputs": []
    },
    {
      "cell_type": "code",
      "metadata": {
        "id": "OX8leDOFNo2s"
      },
      "source": [
        "shots_df = shots_df.round(2)"
      ],
      "execution_count": null,
      "outputs": []
    },
    {
      "cell_type": "code",
      "metadata": {
        "id": "MaPoPybxNo2s"
      },
      "source": [
        "shots_df.describe().round(1)"
      ],
      "execution_count": null,
      "outputs": []
    },
    {
      "cell_type": "code",
      "metadata": {
        "id": "tc0HdggWNo2s"
      },
      "source": [
        "shots_df.groupby([\"Player\"]).describe().round(1)"
      ],
      "execution_count": null,
      "outputs": []
    },
    {
      "cell_type": "code",
      "metadata": {
        "id": "KfWMhf82No2s"
      },
      "source": [
        "shots_df.groupby([\"Player\", \"season\"]).describe().round(1)"
      ],
      "execution_count": null,
      "outputs": []
    },
    {
      "cell_type": "markdown",
      "metadata": {
        "id": "8prhlUP3g1Y8"
      },
      "source": [
        "### Visual EDA"
      ]
    },
    {
      "cell_type": "markdown",
      "metadata": {
        "id": "u68TinXtgVxN"
      },
      "source": [
        "#### EDA on Totals"
      ]
    },
    {
      "cell_type": "code",
      "metadata": {
        "id": "4V68BC78hBap"
      },
      "source": [
        "shots_df.head()"
      ],
      "execution_count": null,
      "outputs": []
    },
    {
      "cell_type": "code",
      "metadata": {
        "id": "SG6dHk8BkyOL"
      },
      "source": [
        "px.histogram(data_frame=shots_df, x=\"result\", color=\"Player\",\n",
        "             barmode=\"group\", title=\"Shot Result Comparison\",\n",
        "             labels={\"result\": \"\", \"count\": \"\"})"
      ],
      "execution_count": null,
      "outputs": []
    },
    {
      "cell_type": "code",
      "metadata": {
        "id": "Ztsf5sGmixSS"
      },
      "source": [
        "px.histogram(data_frame=shots_df, x=\"situation\", color=\"Player\",\n",
        "             barmode=\"group\", title=\"Shot Play-Pattern Comparison\",\n",
        "             labels={\"situation\": \"\", \"count\": \"\"})"
      ],
      "execution_count": null,
      "outputs": []
    },
    {
      "cell_type": "code",
      "metadata": {
        "id": "4c6BCVUtmwU8"
      },
      "source": [
        "px.histogram(data_frame=shots_df, x=\"player_assisted\", color=\"Player\",\n",
        "             barmode=\"group\", title=\"Assisting Player Comparison\",\n",
        "             labels={\"result\": \"\", \"count\": \"\"})"
      ],
      "execution_count": null,
      "outputs": []
    },
    {
      "cell_type": "markdown",
      "metadata": {
        "id": "47HRNG1PnIl-"
      },
      "source": [
        "Interesting to note that both players have had a fruitful relationship with their respective left-backs!"
      ]
    },
    {
      "cell_type": "code",
      "metadata": {
        "id": "i4LNmu5pn2Wm"
      },
      "source": [
        "px.histogram(data_frame=shots_df, x=\"h_a\", color=\"Player\",\n",
        "             barmode=\"group\", title=\"Home-Away Comparison (Shots)\",\n",
        "             labels={\"result\": \"\", \"count\": \"\"})"
      ],
      "execution_count": null,
      "outputs": []
    },
    {
      "cell_type": "code",
      "metadata": {
        "id": "f7F6e7lNoBBi"
      },
      "source": [
        "px.histogram(data_frame=shots_df[shots_df[\"result\"] == \"Goal\"], x=\"h_a\", color=\"Player\",\n",
        "             barmode=\"group\", title=\"Home-Away Comparison (Goals)\",\n",
        "             labels={\"result\": \"\", \"count\": \"\"})"
      ],
      "execution_count": null,
      "outputs": []
    },
    {
      "cell_type": "code",
      "metadata": {
        "id": "PJv8LrQstbp-"
      },
      "source": [
        "px.histogram(data_frame=shots_df[shots_df[\"result\"] == \"MissedShots\"], x=\"h_a\", color=\"Player\",\n",
        "             barmode=\"group\", title=\"Home-Away Comparison (Goals)\",\n",
        "             labels={\"result\": \"\", \"count\": \"\"})"
      ],
      "execution_count": null,
      "outputs": []
    },
    {
      "cell_type": "markdown",
      "metadata": {
        "id": "HZ4eqz0mo6wW"
      },
      "source": [
        "# Comparative Analysis"
      ]
    },
    {
      "cell_type": "markdown",
      "metadata": {
        "id": "W9RKXNnr1iGT"
      },
      "source": [
        "## Goals vs Shots (per season)"
      ]
    },
    {
      "cell_type": "code",
      "metadata": {
        "id": "ZKY_dxTn1oVn"
      },
      "source": [
        "fig = px.scatter(x=\"shots\", y=\"goals\", data_frame=season_wise_meta_df,\n",
        "                 hover_name=\"season\", text=\"Player\", symbol=\"season\", size=\"npg\",\n",
        "                 opacity=.8)\n",
        "fig.update_traces(textposition='top center', textfont_size=10)\n",
        "fig.update_layout(showlegend=True, height=600, width=1200)\n",
        "fig.show()"
      ],
      "execution_count": null,
      "outputs": []
    },
    {
      "cell_type": "code",
      "metadata": {
        "id": "oNCV2SFZvkhH"
      },
      "source": [
        "fig = px.scatter(x=\"shots\", y=\"goals\", data_frame=season_wise_meta_df,\n",
        "                 hover_name=\"season\", text=\"Player\", symbol=\"season\", size=\"npg\",\n",
        "                 opacity=.8)\n",
        "fig.add_trace(go.Scatter(x=[season_wise_meta_df[\"shots\"].min(), season_wise_meta_df[\"shots\"].max() + 5],\n",
        "                         y=[season_wise_meta_df[\"goals\"].mean(), season_wise_meta_df[\"goals\"].mean()],\n",
        "                         name=\"Avg. Goals\"))\n",
        "fig.update_traces(textposition='top center', textfont_size=10)\n",
        "fig.update_layout(showlegend=True, height=800, width=1500)\n",
        "fig.show()"
      ],
      "execution_count": null,
      "outputs": []
    },
    {
      "cell_type": "code",
      "metadata": {
        "id": "fv1whi_BwAKf"
      },
      "source": [
        "fig = px.scatter(x=\"shots\", y=\"goals\", data_frame=season_wise_meta_df,\n",
        "                 hover_name=\"season\", text=\"Player\", symbol=\"season\", size=\"npg\",\n",
        "                 opacity=.8)\n",
        "fig.add_trace(go.Scatter(x=[season_wise_meta_df[\"shots\"].mean(), season_wise_meta_df[\"shots\"].mean()],\n",
        "                         y=[season_wise_meta_df[\"goals\"].min(), season_wise_meta_df[\"goals\"].max() + 5],\n",
        "                         name=\"Avg. Shots\"))\n",
        "fig.update_traces(textposition='top center', textfont_size=10)\n",
        "fig.update_layout(showlegend=True, height=800, width=1500)\n",
        "fig.show()"
      ],
      "execution_count": null,
      "outputs": []
    },
    {
      "cell_type": "code",
      "metadata": {
        "id": "jG8quZUtz2sC"
      },
      "source": [
        "fig = px.scatter(x=\"shots\", y=\"goals\", data_frame=season_wise_meta_df,\n",
        "                 hover_name=\"season\", text=\"Player\", symbol=\"season\", size=\"npg\",\n",
        "                 opacity=.8)\n",
        "fig.add_trace(go.Scatter(x=[season_wise_meta_df[\"shots\"].min(), season_wise_meta_df[\"shots\"].max() + 5],\n",
        "                         y=[season_wise_meta_df[\"goals\"].mean(), season_wise_meta_df[\"goals\"].mean()],\n",
        "                         name=\"Avg. Goals\"))\n",
        "fig.add_trace(go.Scatter(x=[season_wise_meta_df[\"shots\"].mean(), season_wise_meta_df[\"shots\"].mean()],\n",
        "                         y=[season_wise_meta_df[\"goals\"].min(), season_wise_meta_df[\"goals\"].max() + 5],\n",
        "                         name=\"Avg. Shots\"))\n",
        "fig.update_traces(textposition='top center', textfont_size=10)\n",
        "fig.update_layout(showlegend=True, height=800, width=1500)\n",
        "fig.show()"
      ],
      "execution_count": null,
      "outputs": []
    },
    {
      "cell_type": "markdown",
      "metadata": {
        "id": "YFWY595ir4Lg"
      },
      "source": [
        "## Total Goals vs Non-Penalty Goals (per season)"
      ]
    },
    {
      "cell_type": "code",
      "metadata": {
        "id": "4gLE3Qo08I76"
      },
      "source": [
        "fig = px.scatter(y=\"goals\", x=\"npg\", data_frame=season_wise_meta_df,\n",
        "                 hover_name=\"season\", text=\"Player\", symbol=\"season\",\n",
        "                 opacity=.8)\n",
        "fig.add_trace(go.Scatter(x=[season_wise_meta_df[\"npg\"].min(), season_wise_meta_df[\"npg\"].max() + 5],\n",
        "                         y=[season_wise_meta_df[\"goals\"].mean(), season_wise_meta_df[\"goals\"].mean()],\n",
        "                         name=\"Avg. Goals\"))\n",
        "fig.add_trace(go.Scatter(x=[season_wise_meta_df[\"npg\"].mean(), season_wise_meta_df[\"npg\"].mean()],\n",
        "                         y=[season_wise_meta_df[\"goals\"].min(), season_wise_meta_df[\"goals\"].max() + 5],\n",
        "                         name=\"Avg. npg\"))\n",
        "fig.update_traces(textposition='top center', textfont_size=10, marker=dict(size=10))\n",
        "fig.update_layout(showlegend=True, height=800, width=1200)\n",
        "fig.show()"
      ],
      "execution_count": null,
      "outputs": []
    },
    {
      "cell_type": "markdown",
      "metadata": {
        "id": "hlw7uOnOSfCc"
      },
      "source": [
        "## Total Goals vs Total Expected Goals (per season)"
      ]
    },
    {
      "cell_type": "code",
      "metadata": {
        "id": "Lyl640nE-nrU"
      },
      "source": [
        "fig = px.scatter(y=\"xG\", x=\"goals\", data_frame=season_wise_meta_df,\n",
        "                 hover_name=\"season\", text=\"Player\", symbol=\"season\",\n",
        "                 opacity=.8)\n",
        "fig.add_trace(go.Scatter(x=[0, season_wise_meta_df[[\"goals\", \"npg\"]].max().max() + 5],\n",
        "                         y=[0, season_wise_meta_df[[\"goals\", \"npg\"]].max().max() + 5]))\n",
        "fig.update_traces(textposition='top center', textfont_size=10, marker=dict(size=10))\n",
        "fig.update_layout(showlegend=True, height=800, width=1200)\n",
        "fig.show()"
      ],
      "execution_count": null,
      "outputs": []
    },
    {
      "cell_type": "markdown",
      "metadata": {
        "id": "n_LjWXUNUype"
      },
      "source": [
        "## Total Goals vs Total Assists (per season)"
      ]
    },
    {
      "cell_type": "code",
      "metadata": {
        "id": "brUIRctEOhW9"
      },
      "source": [
        "fig = px.scatter(y=\"assists\", x=\"goals\", data_frame=season_wise_meta_df,\n",
        "                 hover_name=\"season\", text=\"Player\", symbol=\"season\",\n",
        "                 opacity=.8)\n",
        "fig.add_trace(go.Scatter(x=season_wise_meta_df[\"goals\"],\n",
        "                         y=[season_wise_meta_df[\"assists\"].mean()]*len(season_wise_meta_df),\n",
        "                         name=\"Avg. Assists\",\n",
        "                         marker={\"size\": .1}))\n",
        "fig.add_trace(go.Scatter(x=[season_wise_meta_df[\"goals\"].mean()]*len(season_wise_meta_df),\n",
        "                         y=season_wise_meta_df[\"assists\"],\n",
        "                         name=\"Avg. Goals\",\n",
        "                         marker={\"size\": .1}))\n",
        "fig.update_traces(textposition='top center',\n",
        "                  textfont_size=10,\n",
        "                  marker=dict(size=10))\n",
        "fig.update_layout(showlegend=True, height=800, width=1200)\n",
        "fig.show()"
      ],
      "execution_count": null,
      "outputs": []
    },
    {
      "cell_type": "markdown",
      "metadata": {
        "id": "hxLIFDFhU5zE"
      },
      "source": [
        "## Total Expected Goals (xG) vs Total Expected Assists (xA) (per season)"
      ]
    },
    {
      "cell_type": "code",
      "metadata": {
        "id": "rN-6Qh_HR7JK"
      },
      "source": [
        "fig = px.scatter(y=\"xA\", x=\"xG\", data_frame=season_wise_meta_df,\n",
        "                 hover_name=\"season\", text=\"Player\", symbol=\"season\",\n",
        "                 opacity=.8)\n",
        "fig.add_trace(go.Scatter(x=season_wise_meta_df[\"xG\"],\n",
        "                         y=[season_wise_meta_df[\"xA\"].mean()]*len(season_wise_meta_df),\n",
        "                         name=\"Avg. xA\",\n",
        "                         marker={\"size\": .1}))\n",
        "fig.add_trace(go.Scatter(x=[season_wise_meta_df[\"xG\"].mean()]*len(season_wise_meta_df),\n",
        "                         y=season_wise_meta_df[\"xA\"],\n",
        "                         name=\"Avg. xG\",\n",
        "                         marker={\"size\": .1}))\n",
        "fig.update_traces(textposition='top center',\n",
        "                  textfont_size=10,\n",
        "                  marker=dict(size=10))\n",
        "fig.update_layout(showlegend=True, height=800, width=1200)\n",
        "fig.show()"
      ],
      "execution_count": null,
      "outputs": []
    },
    {
      "cell_type": "markdown",
      "metadata": {
        "id": "JN7sLm2kVCqx"
      },
      "source": [
        "## Total xGChain vs Total xGBuildup (per season)"
      ]
    },
    {
      "cell_type": "code",
      "metadata": {
        "id": "ptcoZz2OVCqy"
      },
      "source": [
        "fig = px.scatter(x=\"xGChain\", y=\"xGBuildup\", data_frame=season_wise_meta_df,\n",
        "                 hover_name=\"season\", text=\"Player\", symbol=\"season\",\n",
        "                 opacity=.8)\n",
        "fig.add_trace(go.Scatter(x=season_wise_meta_df[\"xGChain\"],\n",
        "                         y=[season_wise_meta_df[\"xGBuildup\"].mean()]*len(season_wise_meta_df),\n",
        "                         name=\"Avg. xGBuildup\",\n",
        "                         marker={\"size\": .1}))\n",
        "fig.add_trace(go.Scatter(x=[season_wise_meta_df[\"xGChain\"].mean()]*len(season_wise_meta_df),\n",
        "                         y=season_wise_meta_df[\"xGBuildup\"],\n",
        "                         name=\"Avg. xGChain\",\n",
        "                         marker={\"size\": .1}))\n",
        "\n",
        "fig.update_traces(textposition='top center',\n",
        "                  textfont_size=10,\n",
        "                  marker=dict(size=10))\n",
        "fig.update_layout(showlegend=True, height=800, width=1200)\n",
        "fig.show()"
      ],
      "execution_count": null,
      "outputs": []
    },
    {
      "cell_type": "markdown",
      "metadata": {
        "id": "1j_jCSu6NxmT"
      },
      "source": [
        "# Shot Analysis"
      ]
    },
    {
      "cell_type": "markdown",
      "metadata": {
        "id": "wy4yYQq6114U"
      },
      "source": [
        "## Function for creating pitch map"
      ]
    },
    {
      "cell_type": "code",
      "metadata": {
        "id": "lcT8tMASDgpU"
      },
      "source": [
        "# Setting boundaries and midpoint:\n",
        "x_lims = [0, 1.15]\n",
        "y_lims = [0, 0.74]\n",
        "\n",
        "x_mid = x_lims[1]/2\n",
        "y_mid = y_lims[1]/2\n",
        "\n",
        "# Setting color and linewidth:\n",
        "background_color = \"black\"\n",
        "line_color = \"white\"\n",
        "line_width = 2."
      ],
      "execution_count": null,
      "outputs": []
    },
    {
      "cell_type": "code",
      "metadata": {
        "id": "p8EuPOvT6-ma"
      },
      "source": [
        "#@title\n",
        "def create_full_pitch(x_lims, y_lims, background_color=\"white\", line_color=\"black\", line_width=2.):\n",
        "    \"\"\"\n",
        "    Function to create a full-scale pitch based on input dimensions\n",
        "    :params:\n",
        "    x_lims: min and max limits for the length of the field\n",
        "    y_lims: min and max limits for the width/breadth of the field\n",
        "    background_color: Background color of the field\n",
        "    line_color: Color for all the lines in the field (Keep this color in contrast with background_color for optimal visual results)\n",
        "    line_width: The thickness of the outer and center lines\n",
        "    \"\"\"\n",
        "    # Create figure:\n",
        "    fig = plt.figure(facecolor=background_color, figsize=(12, 7))\n",
        "    ax = fig.add_subplot(111, facecolor=background_color)\n",
        "\n",
        "    # Pitch Outline & Centre Line\n",
        "    plt.plot([x_lims[0], x_lims[0]], [y_lims[0], y_lims[1]], linewidth=line_width, color=line_color)  # left goal-line\n",
        "    plt.plot([x_lims[0], x_lims[1]], [y_lims[1], y_lims[1]], linewidth=line_width, color=line_color)  # Upper side-line\n",
        "    plt.plot([x_lims[1], x_lims[1]], [y_lims[1], y_lims[0]], linewidth=line_width, color=line_color)  # Right goal-line\n",
        "    plt.plot([x_lims[1], x_lims[0]], [y_lims[0], y_lims[0]], linewidth=line_width, color=line_color)  # Lower side-line\n",
        "    plt.plot([x_mid, x_mid], [y_lims[0], y_lims[1]], linewidth=line_width, color=line_color)  # Center line\n",
        "\n",
        "    # Left Penalty Area\n",
        "    plt.plot([x_lims[0]+.18, x_lims[0]+.18], [y_mid - .22, y_mid + .22], color=line_color)\n",
        "    plt.plot([x_lims[0], x_lims[0]+.18], [y_mid + .22, y_mid + .22], color=line_color)\n",
        "    plt.plot([x_lims[0], x_lims[0]+.18], [y_mid - .22, y_mid - .22], color=line_color)\n",
        "\n",
        "    # Right Penalty Area\n",
        "    plt.plot([x_lims[1] - .18, x_lims[1] - .18], [y_mid - .22, y_mid + .22], color=line_color)\n",
        "    plt.plot([x_lims[1], x_lims[1] - .18], [y_mid + .22, y_mid + .22], color=line_color)\n",
        "    plt.plot([x_lims[1], x_lims[1] - .18], [y_mid - .22, y_mid - .22], color=line_color)\n",
        "\n",
        "    # Left 6yd box Area\n",
        "    plt.plot([x_lims[0]+.06, x_lims[0]+.06], [y_mid - .06, y_mid + .06], color=line_color)\n",
        "    plt.plot([x_lims[0], x_lims[0]+.06], [y_mid + .06, y_mid + .06], color=line_color)\n",
        "    plt.plot([x_lims[0], x_lims[0]+.06], [y_mid - .06, y_mid - .06], color=line_color)\n",
        "\n",
        "    # # Right 6yd box Area\n",
        "    plt.plot([x_lims[1] - .06, x_lims[1] - .06], [y_mid - .06, y_mid + .06], color=line_color)\n",
        "    plt.plot([x_lims[1], x_lims[1] - .06], [y_mid + .06, y_mid + .06], color=line_color)\n",
        "    plt.plot([x_lims[1], x_lims[1] - .06], [y_mid - .06, y_mid - .06], color=line_color)\n",
        "\n",
        "    # Prepare Circles\n",
        "    centre_circle = plt.Circle((x_mid, y_mid), .1, color=line_color, fill=False)\n",
        "    centre_spot = plt.Circle((x_mid, y_mid), 0.005, color=line_color)\n",
        "    left_pen_spot = plt.Circle((x_lims[0]+0.12, y_mid), 0.005, color=line_color)\n",
        "    right_pen_spot = plt.Circle((x_lims[1] - 0.12, y_mid), 0.005, color=line_color)\n",
        "\n",
        "    # Draw Circles\n",
        "    ax.add_patch(centre_circle)\n",
        "    ax.add_patch(centre_spot)\n",
        "    ax.add_patch(left_pen_spot)\n",
        "    ax.add_patch(right_pen_spot)\n",
        "\n",
        "    # Prepare Arcs\n",
        "    left_arc = Arc((x_lims[0] + .12, y_mid), height=.183, width=.183, angle=0, theta1=310, theta2=50, color=line_color)\n",
        "    right_arc = Arc((x_lims[1] - .12, y_mid), height=.183, width=.183, angle=0, theta1=130, theta2=230, color=line_color)\n",
        "\n",
        "    # Draw Arcs\n",
        "    ax.add_patch(left_arc)\n",
        "    ax.add_patch(right_arc)\n",
        "\n",
        "    plt.axis(\"off\")\n",
        "\n",
        "    return ax"
      ],
      "execution_count": null,
      "outputs": []
    },
    {
      "cell_type": "markdown",
      "metadata": {
        "id": "deyEPp0r18AT"
      },
      "source": [
        "## Plot Shot-maps"
      ]
    },
    {
      "cell_type": "code",
      "metadata": {
        "id": "gBRUxVwaQcUz"
      },
      "source": [
        "shots_df[\"X\"] = shots_df[\"X\"].multiply(x_lims[1])\n",
        "shots_df[\"Y\"] = shots_df[\"Y\"].multiply(y_lims[1])"
      ],
      "execution_count": null,
      "outputs": []
    },
    {
      "cell_type": "code",
      "metadata": {
        "id": "1i4-i2ruKd3u"
      },
      "source": [
        "ax1 = create_full_pitch(x_lims, y_lims)\n",
        "\n",
        "sns.scatterplot(x=\"X\", y=\"Y\", data=shots_df[shots_df[\"Player\"] == \"Cristiano\"], size=\"xG\", ax=ax1)\n",
        "\n",
        "ax1.set_xlim([x_mid, x_lims[1]])\n",
        "ax1.set_ylim(y_lims)"
      ],
      "execution_count": null,
      "outputs": []
    },
    {
      "cell_type": "code",
      "metadata": {
        "id": "GKX07APuNNMP"
      },
      "source": [
        "ax2 = create_full_pitch(x_lims, y_lims)\n",
        "\n",
        "sns.scatterplot(x=\"X\", y=\"Y\", data=shots_df[shots_df[\"Player\"] == \"Messi\"], size=\"xG\", ax=ax2)\n",
        "\n",
        "ax2.set_xlim([x_mid, x_lims[1]])\n",
        "ax2.set_ylim(y_lims)"
      ],
      "execution_count": null,
      "outputs": []
    },
    {
      "cell_type": "markdown",
      "metadata": {
        "id": "T_GeVFz31_OT"
      },
      "source": [
        "## Plot HeatMaps"
      ]
    },
    {
      "cell_type": "code",
      "metadata": {
        "id": "1t5MK7hIIlb0"
      },
      "source": [
        "ax1 = create_full_pitch(x_lims, y_lims)\n",
        "\n",
        "sns.kdeplot(x=\"X\", y=\"Y\", data=shots_df[shots_df[\"Player\"] == \"Cristiano\"], shade=True, n_levels=10, ax=ax1)\n",
        "\n",
        "ax1.set_xlim([x_mid, x_lims[1]])\n",
        "ax1.set_ylim(y_lims)"
      ],
      "execution_count": null,
      "outputs": []
    },
    {
      "cell_type": "code",
      "metadata": {
        "id": "hoGezao9NYbS"
      },
      "source": [
        "ax1 = create_full_pitch(x_lims, y_lims)\n",
        "\n",
        "sns.kdeplot(x=\"X\", y=\"Y\", data=shots_df[shots_df[\"Player\"] == \"Messi\"], shade=True, n_levels=10, ax=ax1)\n",
        "\n",
        "ax1.set_xlim([x_mid, x_lims[1]])\n",
        "ax1.set_ylim(y_lims)"
      ],
      "execution_count": null,
      "outputs": []
    },
    {
      "cell_type": "markdown",
      "metadata": {
        "id": "w21Hy21O2G3h"
      },
      "source": [
        "# The Final Comparison"
      ]
    },
    {
      "cell_type": "code",
      "metadata": {
        "id": "56p4vRFBRBs3"
      },
      "source": [
        "season_wise_meta_df"
      ],
      "execution_count": null,
      "outputs": []
    },
    {
      "cell_type": "code",
      "metadata": {
        "id": "l9Ys8o9xRGSg"
      },
      "source": [
        "radar_df = season_wise_meta_df.groupby([\"Player\"])[num_cols].sum().reset_index()"
      ],
      "execution_count": null,
      "outputs": []
    },
    {
      "cell_type": "code",
      "metadata": {
        "id": "kjjLWqmHRIAZ"
      },
      "source": [
        "radar_df"
      ],
      "execution_count": null,
      "outputs": []
    },
    {
      "cell_type": "code",
      "metadata": {
        "id": "afBdu3stPACi"
      },
      "source": [
        "radar_df.columns"
      ],
      "execution_count": null,
      "outputs": []
    },
    {
      "cell_type": "code",
      "metadata": {
        "id": "b5pMWaMoPCYx"
      },
      "source": [
        "cols_for_radar = ['goals', 'shots', 'xG',\n",
        "                  'assists', 'xA', 'key_passes',\n",
        "                  'npg', 'npxG', 'xGChain', 'xGBuildup']"
      ],
      "execution_count": null,
      "outputs": []
    },
    {
      "cell_type": "markdown",
      "metadata": {
        "id": "tQNyOpVX2Qhu"
      },
      "source": [
        "## Radar Plot for Comparison Analysis"
      ]
    },
    {
      "cell_type": "code",
      "metadata": {
        "id": "dtdKcGsAzTMb"
      },
      "source": [
        "# Initiate the plotly go figure\n",
        "fig = go.Figure()\n",
        "# Add Radar plots for different players:\n",
        "fig.add_trace(go.Scatterpolar(\n",
        "    r=radar_df.loc[(radar_df[\"Player\"] == \"Cristiano\"), cols_for_radar].values.flatten(),\n",
        "    theta=cols_for_radar,\n",
        "    fill='toself',\n",
        "    name='Cristiano'))\n",
        "fig.add_trace(go.Scatterpolar(\n",
        "    r=radar_df.loc[(radar_df[\"Player\"] == \"Messi\"), cols_for_radar].values.flatten(),\n",
        "    theta=cols_for_radar,\n",
        "    fill='toself',\n",
        "    name=\"Messi\"))\n",
        "# Additional properties for the plot:\n",
        "fig.update_layout(\n",
        "    title=\"Cristiano vs Messi\",\n",
        "polar=dict(\n",
        "    radialaxis=dict(\n",
        "    visible=True,\n",
        "    )),\n",
        "showlegend=True\n",
        ")\n",
        "fig.show()"
      ],
      "execution_count": null,
      "outputs": []
    },
    {
      "cell_type": "markdown",
      "metadata": {
        "id": "7ouEFcpRPwNS"
      },
      "source": [
        "## Per90 Stats"
      ]
    },
    {
      "cell_type": "code",
      "metadata": {
        "id": "L9F6eAdgPytf"
      },
      "source": [
        "per90Cols = ['goals', 'shots', 'xG',\n",
        "             'assists', 'xA', 'key_passes',\n",
        "             'npg', 'npxG', 'xGChain', 'xGBuildup']\n",
        "\n",
        "for col in per90Cols:\n",
        "    radar_df[col + \"Per90\"] = radar_df[col].divide(radar_df[\"time\"]).multiply(90)"
      ],
      "execution_count": null,
      "outputs": []
    },
    {
      "cell_type": "code",
      "metadata": {
        "id": "OLZrto3PQB0s"
      },
      "source": [
        "cols_for_radar = [i + \"Per90\" for i in per90Cols]"
      ],
      "execution_count": null,
      "outputs": []
    },
    {
      "cell_type": "code",
      "metadata": {
        "id": "G1VmvZqRQyzS"
      },
      "source": [
        "radar_df[cols_for_radar]"
      ],
      "execution_count": null,
      "outputs": []
    },
    {
      "cell_type": "code",
      "metadata": {
        "id": "Knsn1KBJQ91Q"
      },
      "source": [
        "# Initiate the plotly go figure\n",
        "fig = go.Figure()\n",
        "# Add Radar plots for different players:\n",
        "fig.add_trace(go.Scatterpolar(\n",
        "    r=radar_df.loc[(radar_df[\"Player\"] == \"Cristiano\"), cols_for_radar].sum(),\n",
        "    theta=cols_for_radar,\n",
        "    fill='toself',\n",
        "    name='Cristiano'))\n",
        "fig.add_trace(go.Scatterpolar(\n",
        "    r=radar_df.loc[(radar_df[\"Player\"] == \"Messi\"), cols_for_radar].sum(),\n",
        "    theta=cols_for_radar,\n",
        "    fill='toself',\n",
        "    name=\"Messi\"))\n",
        "# Additional properties for the plot:\n",
        "fig.update_layout(\n",
        "    title=\"Cristiano vs Messi\",\n",
        "polar=dict(\n",
        "    radialaxis=dict(\n",
        "    visible=True,\n",
        "    )),\n",
        "showlegend=True\n",
        ")\n",
        "fig.show()"
      ],
      "execution_count": null,
      "outputs": []
    },
    {
      "cell_type": "markdown",
      "metadata": {
        "id": "IJDaB_ukRxU5"
      },
      "source": [
        "# Who Won?"
      ]
    }
  ]
}